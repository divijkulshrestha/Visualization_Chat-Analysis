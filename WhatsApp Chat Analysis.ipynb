{
 "cells": [
  {
   "cell_type": "code",
   "execution_count": 1,
   "metadata": {},
   "outputs": [],
   "source": [
    "import pandas as pd\n",
    "import gensim\n",
    "import csv\n",
    "import datetime as dt\n",
    "import numpy as np\n",
    "import re\n",
    "import string\n",
    "import seaborn as sns\n",
    "import matplotlib.pyplot as plt\n",
    "import matplotlib.dates as mdates"
   ]
  },
  {
   "cell_type": "markdown",
   "metadata": {},
   "source": [
    "# Data Preparation and Cleaning"
   ]
  },
  {
   "cell_type": "code",
   "execution_count": 66,
   "metadata": {},
   "outputs": [],
   "source": [
    "path = './messages.txt'\n",
    "output_path = './messages2.csv'\n",
    "\n",
    "#going through text file line by line\n",
    "with open(output_path, 'a', encoding='utf-8') as csvfile:\n",
    "    fieldnames = ['Text', 'Date', 'Time', 'Sender']\n",
    "    writer = csv.DictWriter(csvfile, fieldnames = fieldnames)\n",
    "    with open(path, 'r', encoding='utf-8') as f:\n",
    "        text = \"\"\n",
    "        for l in f.readlines():\n",
    "            if len(l) > 0:\n",
    "                if l[0].isdigit() and '-' in l:\n",
    "                    datetime = l.split('-')[0]\n",
    "                    date = datetime.split(',')[0]\n",
    "                    time = datetime.split(',')[1].strip()\n",
    "                    text = \"\"\n",
    "                    text += l.split('-')[1]\n",
    "                    msg = text.split(': ')[1]\n",
    "                    sender = text.split(': ')[0].strip()\n",
    "\n",
    "                else:\n",
    "                    text = text + \" \" + l\n",
    "            writer.writerow({'Text': msg, 'Date': date, 'Time':time, 'Sender': sender}) "
   ]
  },
  {
   "cell_type": "code",
   "execution_count": 2,
   "metadata": {},
   "outputs": [],
   "source": [
    "#Data from 28 July 2017 to 7 Oct 2020\n",
    "fieldnames = ['Text', 'Date', 'Time', 'Sender']\n",
    "df = pd.read_csv('messages2.csv', names = fieldnames)"
   ]
  },
  {
   "cell_type": "code",
   "execution_count": 6,
   "metadata": {},
   "outputs": [],
   "source": [
    "#hiding our names, only using first letter to represent them\n",
    "def substring(string, start, end):\n",
    "    return string[start:end]\n",
    "    \n",
    "df['Sender'] = df.apply(lambda row: substring(row.Sender, 0,1) , axis=1) "
   ]
  },
  {
   "cell_type": "code",
   "execution_count": 7,
   "metadata": {},
   "outputs": [
    {
     "data": {
      "text/html": [
       "<div>\n",
       "<style scoped>\n",
       "    .dataframe tbody tr th:only-of-type {\n",
       "        vertical-align: middle;\n",
       "    }\n",
       "\n",
       "    .dataframe tbody tr th {\n",
       "        vertical-align: top;\n",
       "    }\n",
       "\n",
       "    .dataframe thead th {\n",
       "        text-align: right;\n",
       "    }\n",
       "</style>\n",
       "<table border=\"1\" class=\"dataframe\">\n",
       "  <thead>\n",
       "    <tr style=\"text-align: right;\">\n",
       "      <th></th>\n",
       "      <th>Text</th>\n",
       "      <th>Date</th>\n",
       "      <th>Time</th>\n",
       "      <th>Sender</th>\n",
       "    </tr>\n",
       "  </thead>\n",
       "  <tbody>\n",
       "    <tr>\n",
       "      <th>0</th>\n",
       "      <td>I found an APJite in my class, today\\r\\n</td>\n",
       "      <td>28/07/17</td>\n",
       "      <td>7:36 pm</td>\n",
       "      <td>J</td>\n",
       "    </tr>\n",
       "    <tr>\n",
       "      <th>1</th>\n",
       "      <td>But, he joined the school after I left\\r\\n</td>\n",
       "      <td>28/07/17</td>\n",
       "      <td>7:36 pm</td>\n",
       "      <td>J</td>\n",
       "    </tr>\n",
       "    <tr>\n",
       "      <th>2</th>\n",
       "      <td>Ho\\r\\n</td>\n",
       "      <td>28/07/17</td>\n",
       "      <td>7:37 pm</td>\n",
       "      <td>D</td>\n",
       "    </tr>\n",
       "    <tr>\n",
       "      <th>3</th>\n",
       "      <td>Oh.\\r\\n</td>\n",
       "      <td>28/07/17</td>\n",
       "      <td>7:37 pm</td>\n",
       "      <td>D</td>\n",
       "    </tr>\n",
       "    <tr>\n",
       "      <th>4</th>\n",
       "      <td>He's a 🆒 guy\\r\\n</td>\n",
       "      <td>28/07/17</td>\n",
       "      <td>7:40 pm</td>\n",
       "      <td>J</td>\n",
       "    </tr>\n",
       "  </tbody>\n",
       "</table>\n",
       "</div>"
      ],
      "text/plain": [
       "                                         Text      Date     Time Sender\n",
       "0    I found an APJite in my class, today\\r\\n  28/07/17  7:36 pm      J\n",
       "1  But, he joined the school after I left\\r\\n  28/07/17  7:36 pm      J\n",
       "2                                      Ho\\r\\n  28/07/17  7:37 pm      D\n",
       "3                                     Oh.\\r\\n  28/07/17  7:37 pm      D\n",
       "4                            He's a 🆒 guy\\r\\n  28/07/17  7:40 pm      J"
      ]
     },
     "execution_count": 7,
     "metadata": {},
     "output_type": "execute_result"
    }
   ],
   "source": [
    "df.head()"
   ]
  },
  {
   "cell_type": "code",
   "execution_count": 8,
   "metadata": {},
   "outputs": [],
   "source": [
    "df = df.drop_duplicates()"
   ]
  },
  {
   "cell_type": "code",
   "execution_count": 9,
   "metadata": {},
   "outputs": [
    {
     "data": {
      "text/html": [
       "<div>\n",
       "<style scoped>\n",
       "    .dataframe tbody tr th:only-of-type {\n",
       "        vertical-align: middle;\n",
       "    }\n",
       "\n",
       "    .dataframe tbody tr th {\n",
       "        vertical-align: top;\n",
       "    }\n",
       "\n",
       "    .dataframe thead th {\n",
       "        text-align: right;\n",
       "    }\n",
       "</style>\n",
       "<table border=\"1\" class=\"dataframe\">\n",
       "  <thead>\n",
       "    <tr style=\"text-align: right;\">\n",
       "      <th></th>\n",
       "      <th>Text</th>\n",
       "      <th>Date</th>\n",
       "      <th>Time</th>\n",
       "      <th>Sender</th>\n",
       "    </tr>\n",
       "  </thead>\n",
       "  <tbody>\n",
       "    <tr>\n",
       "      <th>6079</th>\n",
       "      <td>This message was deleted\\r\\n</td>\n",
       "      <td>31/10/17</td>\n",
       "      <td>9:54 pm</td>\n",
       "      <td>J</td>\n",
       "    </tr>\n",
       "    <tr>\n",
       "      <th>6087</th>\n",
       "      <td>This message was deleted\\r\\n</td>\n",
       "      <td>31/10/17</td>\n",
       "      <td>9:56 pm</td>\n",
       "      <td>J</td>\n",
       "    </tr>\n",
       "    <tr>\n",
       "      <th>6088</th>\n",
       "      <td>This message was deleted\\r\\n</td>\n",
       "      <td>31/10/17</td>\n",
       "      <td>9:57 pm</td>\n",
       "      <td>J</td>\n",
       "    </tr>\n",
       "    <tr>\n",
       "      <th>8116</th>\n",
       "      <td>This message was deleted\\r\\n</td>\n",
       "      <td>25/11/17</td>\n",
       "      <td>4:16 pm</td>\n",
       "      <td>J</td>\n",
       "    </tr>\n",
       "    <tr>\n",
       "      <th>8118</th>\n",
       "      <td>This message was deleted\\r\\n</td>\n",
       "      <td>25/11/17</td>\n",
       "      <td>4:19 pm</td>\n",
       "      <td>J</td>\n",
       "    </tr>\n",
       "    <tr>\n",
       "      <th>...</th>\n",
       "      <td>...</td>\n",
       "      <td>...</td>\n",
       "      <td>...</td>\n",
       "      <td>...</td>\n",
       "    </tr>\n",
       "    <tr>\n",
       "      <th>40556</th>\n",
       "      <td>This message was deleted\\r\\n</td>\n",
       "      <td>30/04/20</td>\n",
       "      <td>6:45 pm</td>\n",
       "      <td>J</td>\n",
       "    </tr>\n",
       "    <tr>\n",
       "      <th>41061</th>\n",
       "      <td>This message was deleted\\r\\n</td>\n",
       "      <td>21/06/20</td>\n",
       "      <td>8:15 pm</td>\n",
       "      <td>J</td>\n",
       "    </tr>\n",
       "    <tr>\n",
       "      <th>41062</th>\n",
       "      <td>This message was deleted\\r\\n</td>\n",
       "      <td>21/06/20</td>\n",
       "      <td>8:16 pm</td>\n",
       "      <td>J</td>\n",
       "    </tr>\n",
       "    <tr>\n",
       "      <th>41416</th>\n",
       "      <td>This message was deleted\\r\\n</td>\n",
       "      <td>19/09/20</td>\n",
       "      <td>1:34 pm</td>\n",
       "      <td>J</td>\n",
       "    </tr>\n",
       "    <tr>\n",
       "      <th>41555</th>\n",
       "      <td>This message was deleted\\r\\n</td>\n",
       "      <td>06/10/20</td>\n",
       "      <td>12:27 pm</td>\n",
       "      <td>J</td>\n",
       "    </tr>\n",
       "  </tbody>\n",
       "</table>\n",
       "<p>82 rows × 4 columns</p>\n",
       "</div>"
      ],
      "text/plain": [
       "                               Text      Date      Time Sender\n",
       "6079   This message was deleted\\r\\n  31/10/17   9:54 pm      J\n",
       "6087   This message was deleted\\r\\n  31/10/17   9:56 pm      J\n",
       "6088   This message was deleted\\r\\n  31/10/17   9:57 pm      J\n",
       "8116   This message was deleted\\r\\n  25/11/17   4:16 pm      J\n",
       "8118   This message was deleted\\r\\n  25/11/17   4:19 pm      J\n",
       "...                             ...       ...       ...    ...\n",
       "40556  This message was deleted\\r\\n  30/04/20   6:45 pm      J\n",
       "41061  This message was deleted\\r\\n  21/06/20   8:15 pm      J\n",
       "41062  This message was deleted\\r\\n  21/06/20   8:16 pm      J\n",
       "41416  This message was deleted\\r\\n  19/09/20   1:34 pm      J\n",
       "41555  This message was deleted\\r\\n  06/10/20  12:27 pm      J\n",
       "\n",
       "[82 rows x 4 columns]"
      ]
     },
     "execution_count": 9,
     "metadata": {},
     "output_type": "execute_result"
    }
   ],
   "source": [
    "#messages deleted by J\n",
    "df[df['Text'] == \"This message was deleted\\r\\n\" ]"
   ]
  },
  {
   "cell_type": "code",
   "execution_count": 10,
   "metadata": {
    "scrolled": true
   },
   "outputs": [
    {
     "data": {
      "text/html": [
       "<div>\n",
       "<style scoped>\n",
       "    .dataframe tbody tr th:only-of-type {\n",
       "        vertical-align: middle;\n",
       "    }\n",
       "\n",
       "    .dataframe tbody tr th {\n",
       "        vertical-align: top;\n",
       "    }\n",
       "\n",
       "    .dataframe thead th {\n",
       "        text-align: right;\n",
       "    }\n",
       "</style>\n",
       "<table border=\"1\" class=\"dataframe\">\n",
       "  <thead>\n",
       "    <tr style=\"text-align: right;\">\n",
       "      <th></th>\n",
       "      <th>Text</th>\n",
       "      <th>Date</th>\n",
       "      <th>Time</th>\n",
       "      <th>Sender</th>\n",
       "    </tr>\n",
       "  </thead>\n",
       "  <tbody>\n",
       "    <tr>\n",
       "      <th>7733</th>\n",
       "      <td>You deleted this message\\r\\n</td>\n",
       "      <td>18/11/17</td>\n",
       "      <td>4:09 am</td>\n",
       "      <td>D</td>\n",
       "    </tr>\n",
       "    <tr>\n",
       "      <th>8021</th>\n",
       "      <td>You deleted this message\\r\\n</td>\n",
       "      <td>25/11/17</td>\n",
       "      <td>12:05 am</td>\n",
       "      <td>D</td>\n",
       "    </tr>\n",
       "    <tr>\n",
       "      <th>8026</th>\n",
       "      <td>You deleted this message\\r\\n</td>\n",
       "      <td>25/11/17</td>\n",
       "      <td>12:15 am</td>\n",
       "      <td>D</td>\n",
       "    </tr>\n",
       "    <tr>\n",
       "      <th>8698</th>\n",
       "      <td>You deleted this message\\r\\n</td>\n",
       "      <td>05/12/17</td>\n",
       "      <td>11:08 pm</td>\n",
       "      <td>D</td>\n",
       "    </tr>\n",
       "    <tr>\n",
       "      <th>9045</th>\n",
       "      <td>You deleted this message\\r\\n</td>\n",
       "      <td>10/12/17</td>\n",
       "      <td>9:33 pm</td>\n",
       "      <td>D</td>\n",
       "    </tr>\n",
       "    <tr>\n",
       "      <th>...</th>\n",
       "      <td>...</td>\n",
       "      <td>...</td>\n",
       "      <td>...</td>\n",
       "      <td>...</td>\n",
       "    </tr>\n",
       "    <tr>\n",
       "      <th>39286</th>\n",
       "      <td>You deleted this message\\r\\n</td>\n",
       "      <td>05/11/19</td>\n",
       "      <td>7:50 pm</td>\n",
       "      <td>D</td>\n",
       "    </tr>\n",
       "    <tr>\n",
       "      <th>40478</th>\n",
       "      <td>You deleted this message\\r\\n</td>\n",
       "      <td>18/04/20</td>\n",
       "      <td>9:02 pm</td>\n",
       "      <td>D</td>\n",
       "    </tr>\n",
       "    <tr>\n",
       "      <th>40938</th>\n",
       "      <td>You deleted this message\\r\\n</td>\n",
       "      <td>11/06/20</td>\n",
       "      <td>2:07 pm</td>\n",
       "      <td>D</td>\n",
       "    </tr>\n",
       "    <tr>\n",
       "      <th>41327</th>\n",
       "      <td>You deleted this message\\r\\n</td>\n",
       "      <td>07/09/20</td>\n",
       "      <td>9:05 pm</td>\n",
       "      <td>D</td>\n",
       "    </tr>\n",
       "    <tr>\n",
       "      <th>41664</th>\n",
       "      <td>You deleted this message\\r\\n</td>\n",
       "      <td>07/10/20</td>\n",
       "      <td>4:11 pm</td>\n",
       "      <td>D</td>\n",
       "    </tr>\n",
       "  </tbody>\n",
       "</table>\n",
       "<p>65 rows × 4 columns</p>\n",
       "</div>"
      ],
      "text/plain": [
       "                               Text      Date      Time Sender\n",
       "7733   You deleted this message\\r\\n  18/11/17   4:09 am      D\n",
       "8021   You deleted this message\\r\\n  25/11/17  12:05 am      D\n",
       "8026   You deleted this message\\r\\n  25/11/17  12:15 am      D\n",
       "8698   You deleted this message\\r\\n  05/12/17  11:08 pm      D\n",
       "9045   You deleted this message\\r\\n  10/12/17   9:33 pm      D\n",
       "...                             ...       ...       ...    ...\n",
       "39286  You deleted this message\\r\\n  05/11/19   7:50 pm      D\n",
       "40478  You deleted this message\\r\\n  18/04/20   9:02 pm      D\n",
       "40938  You deleted this message\\r\\n  11/06/20   2:07 pm      D\n",
       "41327  You deleted this message\\r\\n  07/09/20   9:05 pm      D\n",
       "41664  You deleted this message\\r\\n  07/10/20   4:11 pm      D\n",
       "\n",
       "[65 rows x 4 columns]"
      ]
     },
     "execution_count": 10,
     "metadata": {},
     "output_type": "execute_result"
    }
   ],
   "source": [
    "#messages I deleted\n",
    "df[df['Text'] == \"You deleted this message\\r\\n\" ]"
   ]
  },
  {
   "cell_type": "code",
   "execution_count": 11,
   "metadata": {
    "scrolled": true
   },
   "outputs": [
    {
     "data": {
      "text/html": [
       "<div>\n",
       "<style scoped>\n",
       "    .dataframe tbody tr th:only-of-type {\n",
       "        vertical-align: middle;\n",
       "    }\n",
       "\n",
       "    .dataframe tbody tr th {\n",
       "        vertical-align: top;\n",
       "    }\n",
       "\n",
       "    .dataframe thead th {\n",
       "        text-align: right;\n",
       "    }\n",
       "</style>\n",
       "<table border=\"1\" class=\"dataframe\">\n",
       "  <thead>\n",
       "    <tr style=\"text-align: right;\">\n",
       "      <th></th>\n",
       "      <th>Text</th>\n",
       "      <th>Date</th>\n",
       "      <th>Time</th>\n",
       "      <th>Sender</th>\n",
       "    </tr>\n",
       "  </thead>\n",
       "  <tbody>\n",
       "    <tr>\n",
       "      <th>108</th>\n",
       "      <td>&lt;Media omitted&gt;\\r\\n</td>\n",
       "      <td>29/07/17</td>\n",
       "      <td>12:27 am</td>\n",
       "      <td>J</td>\n",
       "    </tr>\n",
       "    <tr>\n",
       "      <th>113</th>\n",
       "      <td>&lt;Media omitted&gt;\\r\\n</td>\n",
       "      <td>29/07/17</td>\n",
       "      <td>12:29 am</td>\n",
       "      <td>J</td>\n",
       "    </tr>\n",
       "    <tr>\n",
       "      <th>114</th>\n",
       "      <td>&lt;Media omitted&gt;\\r\\n</td>\n",
       "      <td>29/07/17</td>\n",
       "      <td>12:29 am</td>\n",
       "      <td>D</td>\n",
       "    </tr>\n",
       "    <tr>\n",
       "      <th>195</th>\n",
       "      <td>&lt;Media omitted&gt;\\r\\n</td>\n",
       "      <td>29/07/17</td>\n",
       "      <td>12:51 am</td>\n",
       "      <td>D</td>\n",
       "    </tr>\n",
       "    <tr>\n",
       "      <th>197</th>\n",
       "      <td>&lt;Media omitted&gt;\\r\\n</td>\n",
       "      <td>29/07/17</td>\n",
       "      <td>9:55 am</td>\n",
       "      <td>D</td>\n",
       "    </tr>\n",
       "    <tr>\n",
       "      <th>...</th>\n",
       "      <td>...</td>\n",
       "      <td>...</td>\n",
       "      <td>...</td>\n",
       "      <td>...</td>\n",
       "    </tr>\n",
       "    <tr>\n",
       "      <th>41391</th>\n",
       "      <td>&lt;Media omitted&gt;\\r\\n</td>\n",
       "      <td>18/09/20</td>\n",
       "      <td>3:33 pm</td>\n",
       "      <td>D</td>\n",
       "    </tr>\n",
       "    <tr>\n",
       "      <th>41401</th>\n",
       "      <td>&lt;Media omitted&gt;\\r\\n</td>\n",
       "      <td>18/09/20</td>\n",
       "      <td>9:40 pm</td>\n",
       "      <td>J</td>\n",
       "    </tr>\n",
       "    <tr>\n",
       "      <th>41408</th>\n",
       "      <td>&lt;Media omitted&gt;\\r\\n</td>\n",
       "      <td>19/09/20</td>\n",
       "      <td>9:04 am</td>\n",
       "      <td>J</td>\n",
       "    </tr>\n",
       "    <tr>\n",
       "      <th>41409</th>\n",
       "      <td>&lt;Media omitted&gt;\\r\\n</td>\n",
       "      <td>19/09/20</td>\n",
       "      <td>9:25 am</td>\n",
       "      <td>J</td>\n",
       "    </tr>\n",
       "    <tr>\n",
       "      <th>41415</th>\n",
       "      <td>&lt;Media omitted&gt;\\r\\n</td>\n",
       "      <td>19/09/20</td>\n",
       "      <td>1:34 pm</td>\n",
       "      <td>J</td>\n",
       "    </tr>\n",
       "  </tbody>\n",
       "</table>\n",
       "<p>596 rows × 4 columns</p>\n",
       "</div>"
      ],
      "text/plain": [
       "                      Text      Date      Time Sender\n",
       "108    <Media omitted>\\r\\n  29/07/17  12:27 am      J\n",
       "113    <Media omitted>\\r\\n  29/07/17  12:29 am      J\n",
       "114    <Media omitted>\\r\\n  29/07/17  12:29 am      D\n",
       "195    <Media omitted>\\r\\n  29/07/17  12:51 am      D\n",
       "197    <Media omitted>\\r\\n  29/07/17   9:55 am      D\n",
       "...                    ...       ...       ...    ...\n",
       "41391  <Media omitted>\\r\\n  18/09/20   3:33 pm      D\n",
       "41401  <Media omitted>\\r\\n  18/09/20   9:40 pm      J\n",
       "41408  <Media omitted>\\r\\n  19/09/20   9:04 am      J\n",
       "41409  <Media omitted>\\r\\n  19/09/20   9:25 am      J\n",
       "41415  <Media omitted>\\r\\n  19/09/20   1:34 pm      J\n",
       "\n",
       "[596 rows x 4 columns]"
      ]
     },
     "execution_count": 11,
     "metadata": {},
     "output_type": "execute_result"
    }
   ],
   "source": [
    "#the WhatsApp export option I used omitted media files, so some records are like this\n",
    "df[df['Text'] == \"<Media omitted>\\r\\n\" ]"
   ]
  },
  {
   "cell_type": "code",
   "execution_count": 12,
   "metadata": {},
   "outputs": [],
   "source": [
    "#Getting rid of deleted messages and the escape sequences at the ends of each text\n",
    "#We'll get rid of the media texts once we look at messaging frequency\n",
    "df = df[df['Text'] != \"You deleted this message\\r\\n\"]\n",
    "df = df[df['Text'] != \"This message was deleted\\r\\n\" ]"
   ]
  },
  {
   "cell_type": "code",
   "execution_count": 13,
   "metadata": {},
   "outputs": [
    {
     "data": {
      "text/plain": [
       "Sender\n",
       "D    274\n",
       "J    266\n",
       "Name: Sender, dtype: int64"
      ]
     },
     "execution_count": 13,
     "metadata": {},
     "output_type": "execute_result"
    }
   ],
   "source": [
    "#who sent more links? I did. Typical.\n",
    "links = df[df['Text'].str.contains(\"https*\", case=False) == True]\n",
    "links.groupby(\"Sender\")[\"Sender\"].count()"
   ]
  },
  {
   "cell_type": "markdown",
   "metadata": {},
   "source": [
    "## Word occurences\n",
    "\n",
    "We can see how often a certain word has been used, and by whom. For example, let's look at who uses the word \"lol\" more."
   ]
  },
  {
   "cell_type": "code",
   "execution_count": 15,
   "metadata": {},
   "outputs": [
    {
     "data": {
      "text/html": [
       "<div>\n",
       "<style scoped>\n",
       "    .dataframe tbody tr th:only-of-type {\n",
       "        vertical-align: middle;\n",
       "    }\n",
       "\n",
       "    .dataframe tbody tr th {\n",
       "        vertical-align: top;\n",
       "    }\n",
       "\n",
       "    .dataframe thead th {\n",
       "        text-align: right;\n",
       "    }\n",
       "</style>\n",
       "<table border=\"1\" class=\"dataframe\">\n",
       "  <thead>\n",
       "    <tr style=\"text-align: right;\">\n",
       "      <th></th>\n",
       "      <th>Text</th>\n",
       "      <th>Date</th>\n",
       "      <th>Time</th>\n",
       "      <th>Sender</th>\n",
       "    </tr>\n",
       "  </thead>\n",
       "  <tbody>\n",
       "    <tr>\n",
       "      <th>540</th>\n",
       "      <td>But atleast, he did it. If I were in his place...</td>\n",
       "      <td>02/08/17</td>\n",
       "      <td>11:46 pm</td>\n",
       "      <td>J</td>\n",
       "    </tr>\n",
       "    <tr>\n",
       "      <th>673</th>\n",
       "      <td>Can barely eat food, lol.\\r\\n</td>\n",
       "      <td>06/08/17</td>\n",
       "      <td>2:10 pm</td>\n",
       "      <td>J</td>\n",
       "    </tr>\n",
       "    <tr>\n",
       "      <th>1342</th>\n",
       "      <td>Lol no\\r\\n</td>\n",
       "      <td>27/08/17</td>\n",
       "      <td>12:51 am</td>\n",
       "      <td>D</td>\n",
       "    </tr>\n",
       "    <tr>\n",
       "      <th>1769</th>\n",
       "      <td>Lol no. T'was raining. Plus most of my friends...</td>\n",
       "      <td>04/09/17</td>\n",
       "      <td>12:40 am</td>\n",
       "      <td>D</td>\n",
       "    </tr>\n",
       "    <tr>\n",
       "      <th>2213</th>\n",
       "      <td>You guys seem to have a lot of ample time on y...</td>\n",
       "      <td>13/09/17</td>\n",
       "      <td>5:08 pm</td>\n",
       "      <td>J</td>\n",
       "    </tr>\n",
       "    <tr>\n",
       "      <th>...</th>\n",
       "      <td>...</td>\n",
       "      <td>...</td>\n",
       "      <td>...</td>\n",
       "      <td>...</td>\n",
       "    </tr>\n",
       "    <tr>\n",
       "      <th>41299</th>\n",
       "      <td>Lol tbh I didn't really create a character for...</td>\n",
       "      <td>04/09/20</td>\n",
       "      <td>9:52 am</td>\n",
       "      <td>D</td>\n",
       "    </tr>\n",
       "    <tr>\n",
       "      <th>41545</th>\n",
       "      <td>But all that's minor compared to tinnitus lol\\r\\n</td>\n",
       "      <td>04/10/20</td>\n",
       "      <td>4:10 pm</td>\n",
       "      <td>J</td>\n",
       "    </tr>\n",
       "    <tr>\n",
       "      <th>41551</th>\n",
       "      <td>Lol\\r\\n</td>\n",
       "      <td>04/10/20</td>\n",
       "      <td>4:12 pm</td>\n",
       "      <td>J</td>\n",
       "    </tr>\n",
       "    <tr>\n",
       "      <th>41563</th>\n",
       "      <td>Lol\\r\\n</td>\n",
       "      <td>06/10/20</td>\n",
       "      <td>2:46 pm</td>\n",
       "      <td>J</td>\n",
       "    </tr>\n",
       "    <tr>\n",
       "      <th>41602</th>\n",
       "      <td>Oh, lol. I thought they asked some weird quest...</td>\n",
       "      <td>06/10/20</td>\n",
       "      <td>2:57 pm</td>\n",
       "      <td>J</td>\n",
       "    </tr>\n",
       "  </tbody>\n",
       "</table>\n",
       "<p>268 rows × 4 columns</p>\n",
       "</div>"
      ],
      "text/plain": [
       "                                                    Text      Date      Time  \\\n",
       "540    But atleast, he did it. If I were in his place...  02/08/17  11:46 pm   \n",
       "673                        Can barely eat food, lol.\\r\\n  06/08/17   2:10 pm   \n",
       "1342                                          Lol no\\r\\n  27/08/17  12:51 am   \n",
       "1769   Lol no. T'was raining. Plus most of my friends...  04/09/17  12:40 am   \n",
       "2213   You guys seem to have a lot of ample time on y...  13/09/17   5:08 pm   \n",
       "...                                                  ...       ...       ...   \n",
       "41299  Lol tbh I didn't really create a character for...  04/09/20   9:52 am   \n",
       "41545  But all that's minor compared to tinnitus lol\\r\\n  04/10/20   4:10 pm   \n",
       "41551                                            Lol\\r\\n  04/10/20   4:12 pm   \n",
       "41563                                            Lol\\r\\n  06/10/20   2:46 pm   \n",
       "41602  Oh, lol. I thought they asked some weird quest...  06/10/20   2:57 pm   \n",
       "\n",
       "      Sender  \n",
       "540        J  \n",
       "673        J  \n",
       "1342       D  \n",
       "1769       D  \n",
       "2213       J  \n",
       "...      ...  \n",
       "41299      D  \n",
       "41545      J  \n",
       "41551      J  \n",
       "41563      J  \n",
       "41602      J  \n",
       "\n",
       "[268 rows x 4 columns]"
      ]
     },
     "execution_count": 15,
     "metadata": {},
     "output_type": "execute_result"
    }
   ],
   "source": [
    "lols = df[df['Text'].str.contains(\"lol\", case=False) == True]\n",
    "lols"
   ]
  },
  {
   "cell_type": "code",
   "execution_count": 16,
   "metadata": {},
   "outputs": [
    {
     "data": {
      "text/plain": [
       "Sender\n",
       "D     72\n",
       "J    196\n",
       "Name: Sender, dtype: int64"
      ]
     },
     "execution_count": 16,
     "metadata": {},
     "output_type": "execute_result"
    }
   ],
   "source": [
    "#J lols more than I do\n",
    "lols.groupby(\"Sender\")[\"Sender\"].count()"
   ]
  },
  {
   "cell_type": "code",
   "execution_count": 109,
   "metadata": {},
   "outputs": [
    {
     "data": {
      "text/plain": [
       "39642"
      ]
     },
     "execution_count": 109,
     "metadata": {},
     "output_type": "execute_result"
    }
   ],
   "source": [
    "#Number of texts sent in this period\n",
    "df.Text.count()"
   ]
  },
  {
   "cell_type": "code",
   "execution_count": 25,
   "metadata": {},
   "outputs": [
    {
     "data": {
      "text/plain": [
       "Sender\n",
       "D    19424\n",
       "J    20218\n",
       "Name: Sender, dtype: int64"
      ]
     },
     "execution_count": 25,
     "metadata": {},
     "output_type": "execute_result"
    }
   ],
   "source": [
    "df.groupby(\"Sender\")[\"Sender\"].count()"
   ]
  },
  {
   "cell_type": "code",
   "execution_count": 3,
   "metadata": {},
   "outputs": [
    {
     "data": {
      "text/plain": [
       "237115"
      ]
     },
     "execution_count": 3,
     "metadata": {},
     "output_type": "execute_result"
    }
   ],
   "source": [
    "#Number of words\n",
    "df['Text'].str.split().str.len().sum()"
   ]
  },
  {
   "cell_type": "markdown",
   "metadata": {},
   "source": [
    "### Insights so far:\n",
    "A total 39642 texts sent in this time period! J has sent 20221 texts, I've sent 19428. A total of 237115\n",
    "words exchanged!\n",
    "\n",
    "Breakdown by type:\n",
    "* 596 media files shared - 450 by J, 146 by me\n",
    "* 540 links shared - 266 him, 274 me\n",
    "* 147 deleted messages - 82 by J, 65 by me\n",
    "\n",
    "Oh, and J says lol way more than I do."
   ]
  },
  {
   "cell_type": "code",
   "execution_count": 17,
   "metadata": {},
   "outputs": [],
   "source": [
    "#creatinng a timestamp column by combining date and time, later convert this to datetime object for time-series viz\n",
    "df['Timestamp'] = df.apply(lambda row: row.Date + \" \" + row.Time, axis=1) "
   ]
  },
  {
   "cell_type": "code",
   "execution_count": 120,
   "metadata": {},
   "outputs": [
    {
     "name": "stdout",
     "output_type": "stream",
     "text": [
      "<class 'pandas.core.frame.DataFrame'>\n",
      "Int64Index: 39649 entries, 0 to 41665\n",
      "Data columns (total 5 columns):\n",
      " #   Column     Non-Null Count  Dtype \n",
      "---  ------     --------------  ----- \n",
      " 0   Text       39642 non-null  object\n",
      " 1   Date       39649 non-null  object\n",
      " 2   Time       39649 non-null  object\n",
      " 3   Sender     39649 non-null  object\n",
      " 4   Timestamp  39649 non-null  object\n",
      "dtypes: object(5)\n",
      "memory usage: 1.8+ MB\n"
     ]
    }
   ],
   "source": [
    "df.info()"
   ]
  },
  {
   "cell_type": "code",
   "execution_count": 18,
   "metadata": {},
   "outputs": [],
   "source": [
    "df['Timestamp'] = pd.to_datetime(df['Timestamp'], dayfirst =True)"
   ]
  },
  {
   "cell_type": "code",
   "execution_count": 19,
   "metadata": {},
   "outputs": [
    {
     "data": {
      "text/html": [
       "<div>\n",
       "<style scoped>\n",
       "    .dataframe tbody tr th:only-of-type {\n",
       "        vertical-align: middle;\n",
       "    }\n",
       "\n",
       "    .dataframe tbody tr th {\n",
       "        vertical-align: top;\n",
       "    }\n",
       "\n",
       "    .dataframe thead th {\n",
       "        text-align: right;\n",
       "    }\n",
       "</style>\n",
       "<table border=\"1\" class=\"dataframe\">\n",
       "  <thead>\n",
       "    <tr style=\"text-align: right;\">\n",
       "      <th></th>\n",
       "      <th>Text</th>\n",
       "      <th>Date</th>\n",
       "      <th>Time</th>\n",
       "      <th>Sender</th>\n",
       "      <th>Timestamp</th>\n",
       "    </tr>\n",
       "  </thead>\n",
       "  <tbody>\n",
       "    <tr>\n",
       "      <th>0</th>\n",
       "      <td>I found an APJite in my class, today\\r\\n</td>\n",
       "      <td>28/07/17</td>\n",
       "      <td>7:36 pm</td>\n",
       "      <td>J</td>\n",
       "      <td>2017-07-28 19:36:00</td>\n",
       "    </tr>\n",
       "    <tr>\n",
       "      <th>1</th>\n",
       "      <td>But, he joined the school after I left\\r\\n</td>\n",
       "      <td>28/07/17</td>\n",
       "      <td>7:36 pm</td>\n",
       "      <td>J</td>\n",
       "      <td>2017-07-28 19:36:00</td>\n",
       "    </tr>\n",
       "    <tr>\n",
       "      <th>2</th>\n",
       "      <td>Ho\\r\\n</td>\n",
       "      <td>28/07/17</td>\n",
       "      <td>7:37 pm</td>\n",
       "      <td>D</td>\n",
       "      <td>2017-07-28 19:37:00</td>\n",
       "    </tr>\n",
       "    <tr>\n",
       "      <th>3</th>\n",
       "      <td>Oh.\\r\\n</td>\n",
       "      <td>28/07/17</td>\n",
       "      <td>7:37 pm</td>\n",
       "      <td>D</td>\n",
       "      <td>2017-07-28 19:37:00</td>\n",
       "    </tr>\n",
       "    <tr>\n",
       "      <th>4</th>\n",
       "      <td>He's a 🆒 guy\\r\\n</td>\n",
       "      <td>28/07/17</td>\n",
       "      <td>7:40 pm</td>\n",
       "      <td>J</td>\n",
       "      <td>2017-07-28 19:40:00</td>\n",
       "    </tr>\n",
       "  </tbody>\n",
       "</table>\n",
       "</div>"
      ],
      "text/plain": [
       "                                         Text      Date     Time Sender  \\\n",
       "0    I found an APJite in my class, today\\r\\n  28/07/17  7:36 pm      J   \n",
       "1  But, he joined the school after I left\\r\\n  28/07/17  7:36 pm      J   \n",
       "2                                      Ho\\r\\n  28/07/17  7:37 pm      D   \n",
       "3                                     Oh.\\r\\n  28/07/17  7:37 pm      D   \n",
       "4                            He's a 🆒 guy\\r\\n  28/07/17  7:40 pm      J   \n",
       "\n",
       "            Timestamp  \n",
       "0 2017-07-28 19:36:00  \n",
       "1 2017-07-28 19:36:00  \n",
       "2 2017-07-28 19:37:00  \n",
       "3 2017-07-28 19:37:00  \n",
       "4 2017-07-28 19:40:00  "
      ]
     },
     "execution_count": 19,
     "metadata": {},
     "output_type": "execute_result"
    }
   ],
   "source": [
    "df.head()"
   ]
  },
  {
   "cell_type": "code",
   "execution_count": 189,
   "metadata": {},
   "outputs": [
    {
     "data": {
      "text/plain": [
       "Date\n",
       "31/12/19      1\n",
       "08/08/19      1\n",
       "08/07/20      1\n",
       "23/09/19      1\n",
       "08/02/18      1\n",
       "           ... \n",
       "24/10/18    391\n",
       "02/07/18    395\n",
       "16/07/18    425\n",
       "01/01/18    488\n",
       "05/03/18    552\n",
       "Name: Date, Length: 772, dtype: int64"
      ]
     },
     "execution_count": 189,
     "metadata": {},
     "output_type": "execute_result"
    }
   ],
   "source": [
    "#We exchanged 552 messages on 5th March 2018? \n",
    "#No way...I had to go back to the Excel to figure it out - we were up till 3 AM that night lol\n",
    "df.groupby(\"Date\")[\"Date\"].count().sort_values()"
   ]
  },
  {
   "cell_type": "code",
   "execution_count": 21,
   "metadata": {},
   "outputs": [],
   "source": [
    "#noticed a few null cells, should have done this earlier\n",
    "df = df[df['Text'].isnull()==False]"
   ]
  },
  {
   "cell_type": "code",
   "execution_count": 22,
   "metadata": {},
   "outputs": [
    {
     "name": "stderr",
     "output_type": "stream",
     "text": [
      "<ipython-input-22-33c86b2e0ccb>:2: SettingWithCopyWarning: \n",
      "A value is trying to be set on a copy of a slice from a DataFrame.\n",
      "Try using .loc[row_indexer,col_indexer] = value instead\n",
      "\n",
      "See the caveats in the documentation: https://pandas.pydata.org/pandas-docs/stable/user_guide/indexing.html#returning-a-view-versus-a-copy\n",
      "  df['Text'] = df.apply(lambda row: row.Text.split('\\r\\n')[0], axis=1)\n"
     ]
    }
   ],
   "source": [
    "#getting read of the escape characters at the end of texts\n",
    "df['Text'] = df.apply(lambda row: row.Text.split('\\r\\n')[0], axis=1)"
   ]
  },
  {
   "cell_type": "code",
   "execution_count": 23,
   "metadata": {},
   "outputs": [
    {
     "data": {
      "text/html": [
       "<div>\n",
       "<style scoped>\n",
       "    .dataframe tbody tr th:only-of-type {\n",
       "        vertical-align: middle;\n",
       "    }\n",
       "\n",
       "    .dataframe tbody tr th {\n",
       "        vertical-align: top;\n",
       "    }\n",
       "\n",
       "    .dataframe thead th {\n",
       "        text-align: right;\n",
       "    }\n",
       "</style>\n",
       "<table border=\"1\" class=\"dataframe\">\n",
       "  <thead>\n",
       "    <tr style=\"text-align: right;\">\n",
       "      <th></th>\n",
       "      <th>Text</th>\n",
       "      <th>Date</th>\n",
       "      <th>Time</th>\n",
       "      <th>Sender</th>\n",
       "      <th>Timestamp</th>\n",
       "    </tr>\n",
       "  </thead>\n",
       "  <tbody>\n",
       "    <tr>\n",
       "      <th>0</th>\n",
       "      <td>I found an APJite in my class, today</td>\n",
       "      <td>28/07/17</td>\n",
       "      <td>7:36 pm</td>\n",
       "      <td>J</td>\n",
       "      <td>2017-07-28 19:36:00</td>\n",
       "    </tr>\n",
       "    <tr>\n",
       "      <th>1</th>\n",
       "      <td>But, he joined the school after I left</td>\n",
       "      <td>28/07/17</td>\n",
       "      <td>7:36 pm</td>\n",
       "      <td>J</td>\n",
       "      <td>2017-07-28 19:36:00</td>\n",
       "    </tr>\n",
       "    <tr>\n",
       "      <th>2</th>\n",
       "      <td>Ho</td>\n",
       "      <td>28/07/17</td>\n",
       "      <td>7:37 pm</td>\n",
       "      <td>D</td>\n",
       "      <td>2017-07-28 19:37:00</td>\n",
       "    </tr>\n",
       "    <tr>\n",
       "      <th>3</th>\n",
       "      <td>Oh.</td>\n",
       "      <td>28/07/17</td>\n",
       "      <td>7:37 pm</td>\n",
       "      <td>D</td>\n",
       "      <td>2017-07-28 19:37:00</td>\n",
       "    </tr>\n",
       "    <tr>\n",
       "      <th>4</th>\n",
       "      <td>He's a 🆒 guy</td>\n",
       "      <td>28/07/17</td>\n",
       "      <td>7:40 pm</td>\n",
       "      <td>J</td>\n",
       "      <td>2017-07-28 19:40:00</td>\n",
       "    </tr>\n",
       "  </tbody>\n",
       "</table>\n",
       "</div>"
      ],
      "text/plain": [
       "                                     Text      Date     Time Sender  \\\n",
       "0    I found an APJite in my class, today  28/07/17  7:36 pm      J   \n",
       "1  But, he joined the school after I left  28/07/17  7:36 pm      J   \n",
       "2                                      Ho  28/07/17  7:37 pm      D   \n",
       "3                                     Oh.  28/07/17  7:37 pm      D   \n",
       "4                            He's a 🆒 guy  28/07/17  7:40 pm      J   \n",
       "\n",
       "            Timestamp  \n",
       "0 2017-07-28 19:36:00  \n",
       "1 2017-07-28 19:36:00  \n",
       "2 2017-07-28 19:37:00  \n",
       "3 2017-07-28 19:37:00  \n",
       "4 2017-07-28 19:40:00  "
      ]
     },
     "execution_count": 23,
     "metadata": {},
     "output_type": "execute_result"
    }
   ],
   "source": [
    "df.head()"
   ]
  },
  {
   "cell_type": "code",
   "execution_count": 2,
   "metadata": {},
   "outputs": [],
   "source": [
    "#convert to csv for later use\n",
    "df.to_csv('cleaned_messages.csv', index = False)\n",
    "#df = pd.read_csv('cleaned_messages2.csv')"
   ]
  },
  {
   "cell_type": "markdown",
   "metadata": {},
   "source": [
    "# Messaging Frequency"
   ]
  },
  {
   "cell_type": "code",
   "execution_count": 219,
   "metadata": {},
   "outputs": [],
   "source": [
    "#Messaging Frequency\n",
    "messages_per_day = df.groupby(pd.Grouper(key=\"Timestamp\", freq='D')).count()"
   ]
  },
  {
   "cell_type": "code",
   "execution_count": 221,
   "metadata": {},
   "outputs": [
    {
     "data": {
      "text/plain": [
       "<matplotlib.axes._subplots.AxesSubplot at 0x298c5501eb8>"
      ]
     },
     "execution_count": 221,
     "metadata": {},
     "output_type": "execute_result"
    },
    {
     "data": {
      "image/png": "[encoded data removed]",
      "text/plain": [
       "<Figure size 1440x360 with 1 Axes>"
      ]
     },
     "metadata": {
      "needs_background": "light"
     },
     "output_type": "display_data"
    }
   ],
   "source": [
    "messages_per_day.Text.plot(figsize=(20,5),style='g',alpha=0.5, title = \"Messages per Day\", grid = True)"
   ]
  },
  {
   "cell_type": "code",
   "execution_count": 224,
   "metadata": {},
   "outputs": [
    {
     "data": {
      "text/plain": [
       "<matplotlib.axes._subplots.AxesSubplot at 0x298c41156d8>"
      ]
     },
     "execution_count": 224,
     "metadata": {},
     "output_type": "execute_result"
    },
    {
     "data": {
      "image/png": "[encoded data removed]",
      "text/plain": [
       "<Figure size 1440x360 with 1 Axes>"
      ]
     },
     "metadata": {
      "needs_background": "light"
     },
     "output_type": "display_data"
    }
   ],
   "source": [
    "messages_per_month = df.groupby(pd.Grouper(key=\"Timestamp\", freq='M')).count()\n",
    "\n",
    "messages_per_month.Text.plot(figsize=(20,5),style='g',alpha=0.5, title = \"Messages per Month\", grid = False)"
   ]
  },
  {
   "cell_type": "code",
   "execution_count": 238,
   "metadata": {},
   "outputs": [
    {
     "data": {
      "text/plain": [
       "772"
      ]
     },
     "execution_count": 238,
     "metadata": {},
     "output_type": "execute_result"
    }
   ],
   "source": [
    "#Total days we texted during this period (1167 days total)\n",
    "#This is almost 20 days in a month\n",
    "df.Date.unique().size"
   ]
  },
  {
   "cell_type": "code",
   "execution_count": 245,
   "metadata": {},
   "outputs": [
    {
     "data": {
      "text/plain": [
       "<matplotlib.axes._subplots.AxesSubplot at 0x298c6ad2400>"
      ]
     },
     "execution_count": 245,
     "metadata": {},
     "output_type": "execute_result"
    },
    {
     "data": {
      "image/png": "[encoded data removed]",
      "text/plain": [
       "<Figure size 1440x720 with 1 Axes>"
      ]
     },
     "metadata": {
      "needs_background": "light"
     },
     "output_type": "display_data"
    }
   ],
   "source": [
    "#Let's look at activitiy by time of day\n",
    "df.groupby([df.Timestamp.dt.hour]).Text.count().plot(kind='bar',figsize=(20,10))"
   ]
  },
  {
   "cell_type": "markdown",
   "metadata": {},
   "source": [
    "# Vocabulary"
   ]
  },
  {
   "cell_type": "code",
   "execution_count": 30,
   "metadata": {},
   "outputs": [],
   "source": [
    "from collections import defaultdict\n",
    "from nltk.tokenize import word_tokenize\n",
    "from nltk.tokenize import WordPunctTokenizer\n",
    "from nltk.tokenize import sent_tokenize\n",
    "from nltk.corpus import stopwords\n",
    "from nltk.corpus import wordnet\n",
    "from nltk.sentiment.vader import SentimentIntensityAnalyzer\n",
    "from nltk.stem.porter import PorterStemmer\n",
    "#from sklearn.feature_extraction.text import CountVectorizer\n",
    "from gensim import corpora, models\n",
    "from wordcloud import WordCloud, ImageColorGenerator"
   ]
  },
  {
   "cell_type": "code",
   "execution_count": 31,
   "metadata": {},
   "outputs": [],
   "source": [
    "def normalize(text, join_sentences = True, stops = True, stemmer = False):\n",
    "    if type(text) not in [type(''),type(u'')]:\n",
    "        return text\n",
    "    r = RegexpReplacer()\n",
    "    p_stemmer = PorterStemmer()\n",
    "    word_punct_tokenizer = WordPunctTokenizer()\n",
    "    repeat = RepeatReplacer()\n",
    "    x = re.compile('[%s]' % re.escape(string.punctuation))\n",
    "    if stops:\n",
    "        stops = set(stopwords.words('english'))\n",
    "    sentences = sent_tokenize(text)\n",
    "    normalized_sentences = []\n",
    "    for sentence in sentences:\n",
    "        #tokens = word_tokenize(r.replace(sentence.lower()))\n",
    "        tokens = word_punct_tokenizer.tokenize(r.replace(sentence.lower()))\n",
    "        no_punct = [token for token in tokens if x.sub(u'', token)]\n",
    "        no_repeat = [replacer.replace(word) for word in no_punct]\n",
    "        if stops:\n",
    "            no_repeat = [word for word in no_repeat if word not in stops]\n",
    "        if stemmer:\n",
    "            no_repeat = [p_stemmer.stem(word) for word in no_repeat]\n",
    "        normalized_sentences.append(' '.join(no_repeat))\n",
    "    if join_sentences:\n",
    "        normalized_sentences = ' '.join(normalized_sentences)\n",
    "        return normalized_sentences\n",
    "    return [normalized_sentence for normalized_sentence in normalized_sentences]"
   ]
  },
  {
   "cell_type": "code",
   "execution_count": 32,
   "metadata": {},
   "outputs": [],
   "source": [
    "replacement_patterns = [\n",
    "    (r'won\\'t', 'will not'),\n",
    "    (r'can\\'t', 'cannot'),\n",
    "    (r'i\\'m', 'i am'),\n",
    "    (r'ain\\'t', 'is not'),\n",
    "    (r'(\\w+)\\'ll', '\\g<1> will'),\n",
    "    (r'(\\w+)n\\'t', '\\g<1> not'),\n",
    "    (r'(\\w+)\\'ve', '\\g<1> have'),\n",
    "    (r'(\\w+)\\'s', '\\g<1> is'),\n",
    "    (r'(\\w+)\\'re', '\\g<1> are'),\n",
    "    (r'(\\w+)\\'d', '\\g<1> would'),\n",
    "    (r'gonna','going to'),\n",
    "    (r'wanna','want to')\n",
    "]\n",
    "class RegexpReplacer(object):\n",
    "    def __init__(self, patterns=replacement_patterns):\n",
    "        self.patterns = [(re.compile(regex), repl) for (regex, repl) in\n",
    "        patterns]\n",
    "    def replace(self, text):\n",
    "        s = text\n",
    "        for (pattern, repl) in self.patterns:\n",
    "            (s, count) = re.subn(pattern, repl, s)\n",
    "        return s"
   ]
  },
  {
   "cell_type": "code",
   "execution_count": 33,
   "metadata": {},
   "outputs": [],
   "source": [
    "class RepeatReplacer(object):\n",
    "    def __init__(self):\n",
    "        self.repeat_regexp = re.compile(r'(\\w*)(\\w)\\2(\\w*)')\n",
    "        self.repl = r'\\1\\2\\3'\n",
    "    def replace(self, word):\n",
    "        if len(word) > 100:\n",
    "            return ''\n",
    "        if wordnet.synsets(word):\n",
    "            return word\n",
    "        repl_word = self.repeat_regexp.sub(self.repl, word)\n",
    "        if repl_word != word:\n",
    "            return self.replace(repl_word)\n",
    "        else:\n",
    "            return repl_word"
   ]
  },
  {
   "cell_type": "code",
   "execution_count": 34,
   "metadata": {},
   "outputs": [],
   "source": [
    "replacer = RepeatReplacer()"
   ]
  },
  {
   "cell_type": "code",
   "execution_count": 32,
   "metadata": {},
   "outputs": [],
   "source": [
    "#get rid of links and \"media omitted\" messages so as to not affect NLP tasks"
   ]
  },
  {
   "cell_type": "code",
   "execution_count": 20,
   "metadata": {},
   "outputs": [],
   "source": [
    "df2 = df[df['Text'] != \"<Media omitted>\"]\n",
    "df2 = df[df.Text.str.contains(\"https*\")==False]"
   ]
  },
  {
   "cell_type": "code",
   "execution_count": 21,
   "metadata": {},
   "outputs": [
    {
     "name": "stderr",
     "output_type": "stream",
     "text": [
      "<ipython-input-21-d82683a6d5bd>:1: SettingWithCopyWarning: \n",
      "A value is trying to be set on a copy of a slice from a DataFrame.\n",
      "Try using .loc[row_indexer,col_indexer] = value instead\n",
      "\n",
      "See the caveats in the documentation: https://pandas.pydata.org/pandas-docs/stable/user_guide/indexing.html#returning-a-view-versus-a-copy\n",
      "  df2['text_normalized'] = df2.Text.apply(normalize)\n"
     ]
    }
   ],
   "source": [
    "df2['text_normalized'] = df2.Text.apply(normalize)"
   ]
  },
  {
   "cell_type": "code",
   "execution_count": 22,
   "metadata": {},
   "outputs": [],
   "source": [
    "x = df2.Text.dropna()"
   ]
  },
  {
   "cell_type": "code",
   "execution_count": 23,
   "metadata": {},
   "outputs": [],
   "source": [
    "top_50 = pd.Series(' '.join(x).split()).value_counts()[:50]"
   ]
  },
  {
   "cell_type": "code",
   "execution_count": 32,
   "metadata": {
    "scrolled": false
   },
   "outputs": [
    {
     "data": {
      "text/plain": [
       "I         7722\n",
       "the       6998\n",
       "a         5112\n",
       "to        4074\n",
       "of        3198\n",
       "it        3131\n",
       "you       2788\n",
       "in        2566\n",
       "and       2557\n",
       "that      2507\n",
       "was       2192\n",
       "for       1847\n",
       "is        1691\n",
       "have      1632\n",
       "on        1593\n",
       "this      1487\n",
       "my        1411\n",
       "like      1240\n",
       "Oh        1225\n",
       "Yeah      1216\n",
       "It's      1180\n",
       "The       1088\n",
       "with      1045\n",
       "I've       972\n",
       "one        953\n",
       "don't      946\n",
       "are        937\n",
       "just       915\n",
       "about      868\n",
       "But        855\n",
       "from       854\n",
       "me         847\n",
       "I'm        817\n",
       "be         794\n",
       "not        766\n",
       "I'll       765\n",
       "at         751\n",
       "You        732\n",
       "Yeah,      727\n",
       "And        726\n",
       "It         718\n",
       "really     717\n",
       "all        717\n",
       "get        709\n",
       "they       679\n",
       "do         670\n",
       "it's       667\n",
       "too        651\n",
       "know       643\n",
       "some       636\n",
       "dtype: int64"
      ]
     },
     "execution_count": 32,
     "metadata": {},
     "output_type": "execute_result"
    }
   ],
   "source": [
    "#most frequently used words\n",
    "top_50"
   ]
  },
  {
   "cell_type": "code",
   "execution_count": 18,
   "metadata": {},
   "outputs": [
    {
     "data": {
      "text/plain": [
       "1412"
      ]
     },
     "execution_count": 18,
     "metadata": {},
     "output_type": "execute_result"
    }
   ],
   "source": [
    "#length of longest message sent\n",
    "df.Text.str.len().max()"
   ]
  },
  {
   "cell_type": "code",
   "execution_count": 39,
   "metadata": {},
   "outputs": [],
   "source": [
    "df2 = df[df['Sender'] != \"J\"]"
   ]
  },
  {
   "cell_type": "code",
   "execution_count": 24,
   "metadata": {},
   "outputs": [
    {
     "data": {
      "text/plain": [
       "1412"
      ]
     },
     "execution_count": 24,
     "metadata": {},
     "output_type": "execute_result"
    }
   ],
   "source": [
    "#D's longest message\n",
    "df2.Text.str.len().max()"
   ]
  },
  {
   "cell_type": "code",
   "execution_count": 27,
   "metadata": {},
   "outputs": [
    {
     "data": {
      "text/plain": [
       "1025"
      ]
     },
     "execution_count": 27,
     "metadata": {},
     "output_type": "execute_result"
    }
   ],
   "source": [
    "#J's longest message\n",
    "df2 = df[df['Sender'] == \"J\"]\n",
    "df2.Text.str.len().max()"
   ]
  },
  {
   "cell_type": "code",
   "execution_count": 40,
   "metadata": {},
   "outputs": [],
   "source": [
    "df2 = df2[df2['Text'] != \"<Media omitted>\"]\n",
    "df2 = df2[df2.Text.str.contains(\"https*\")==False]\n",
    "df2['text_normalized'] = df2.Text.apply(normalize)"
   ]
  },
  {
   "cell_type": "code",
   "execution_count": 37,
   "metadata": {},
   "outputs": [
    {
     "data": {
      "text/plain": [
       "the          3837\n",
       "I            3746\n",
       "a            2648\n",
       "to           1967\n",
       "of           1907\n",
       "             ... \n",
       "watch         191\n",
       "Have          191\n",
       "then          189\n",
       "But,          188\n",
       "something     185\n",
       "Length: 100, dtype: int64"
      ]
     },
     "execution_count": 37,
     "metadata": {},
     "output_type": "execute_result"
    }
   ],
   "source": [
    "#J's most used words\n",
    "x = df2.Text.dropna()\n",
    "top_100 = pd.Series(' '.join(x).split()).value_counts()[:100]\n",
    "top_100"
   ]
  },
  {
   "cell_type": "code",
   "execution_count": 41,
   "metadata": {},
   "outputs": [
    {
     "data": {
      "text/plain": [
       "I       3976\n",
       "the     3161\n",
       "a       2464\n",
       "to      2107\n",
       "and     1451\n",
       "        ... \n",
       "did      164\n",
       "your     163\n",
       "by       161\n",
       "here     157\n",
       "no       156\n",
       "Length: 100, dtype: int64"
      ]
     },
     "execution_count": 41,
     "metadata": {},
     "output_type": "execute_result"
    }
   ],
   "source": [
    "#D's most used words\n",
    "x = df2.Text.dropna()\n",
    "top_100 = pd.Series(' '.join(x).split()).value_counts()[:100]\n",
    "top_100"
   ]
  },
  {
   "cell_type": "markdown",
   "metadata": {},
   "source": [
    "# Emoji Usage"
   ]
  },
  {
   "cell_type": "code",
   "execution_count": 46,
   "metadata": {},
   "outputs": [],
   "source": [
    "import regex\n",
    "import emoji\n",
    "def split_count(text):\n",
    "\n",
    "    emoji_list = []\n",
    "    data = regex.findall(r'\\X', text)\n",
    "    for word in data:\n",
    "        if any(char in emoji.UNICODE_EMOJI for char in word):\n",
    "            emoji_list.append(word)\n",
    "\n",
    "    return emoji_list\n",
    "\n",
    "#New col with list of emojis used in the text\n",
    "df[\"emoji\"] = df[\"Text\"].apply(split_count)"
   ]
  },
  {
   "cell_type": "code",
   "execution_count": 27,
   "metadata": {},
   "outputs": [
    {
     "data": {
      "text/html": [
       "<div>\n",
       "<style scoped>\n",
       "    .dataframe tbody tr th:only-of-type {\n",
       "        vertical-align: middle;\n",
       "    }\n",
       "\n",
       "    .dataframe tbody tr th {\n",
       "        vertical-align: top;\n",
       "    }\n",
       "\n",
       "    .dataframe thead th {\n",
       "        text-align: right;\n",
       "    }\n",
       "</style>\n",
       "<table border=\"1\" class=\"dataframe\">\n",
       "  <thead>\n",
       "    <tr style=\"text-align: right;\">\n",
       "      <th></th>\n",
       "      <th>Text</th>\n",
       "      <th>Date</th>\n",
       "      <th>Time</th>\n",
       "      <th>Sender</th>\n",
       "      <th>Timestamp</th>\n",
       "      <th>emoji</th>\n",
       "    </tr>\n",
       "  </thead>\n",
       "  <tbody>\n",
       "    <tr>\n",
       "      <th>0</th>\n",
       "      <td>I found an APJite in my class, today</td>\n",
       "      <td>28/07/17</td>\n",
       "      <td>7:36 pm</td>\n",
       "      <td>J</td>\n",
       "      <td>2017-07-28 19:36:00</td>\n",
       "      <td>[]</td>\n",
       "    </tr>\n",
       "    <tr>\n",
       "      <th>1</th>\n",
       "      <td>But, he joined the school after I left</td>\n",
       "      <td>28/07/17</td>\n",
       "      <td>7:36 pm</td>\n",
       "      <td>J</td>\n",
       "      <td>2017-07-28 19:36:00</td>\n",
       "      <td>[]</td>\n",
       "    </tr>\n",
       "    <tr>\n",
       "      <th>2</th>\n",
       "      <td>Ho</td>\n",
       "      <td>28/07/17</td>\n",
       "      <td>7:37 pm</td>\n",
       "      <td>D</td>\n",
       "      <td>2017-07-28 19:37:00</td>\n",
       "      <td>[]</td>\n",
       "    </tr>\n",
       "    <tr>\n",
       "      <th>3</th>\n",
       "      <td>Oh.</td>\n",
       "      <td>28/07/17</td>\n",
       "      <td>7:37 pm</td>\n",
       "      <td>D</td>\n",
       "      <td>2017-07-28 19:37:00</td>\n",
       "      <td>[]</td>\n",
       "    </tr>\n",
       "    <tr>\n",
       "      <th>4</th>\n",
       "      <td>He's a 🆒 guy</td>\n",
       "      <td>28/07/17</td>\n",
       "      <td>7:40 pm</td>\n",
       "      <td>J</td>\n",
       "      <td>2017-07-28 19:40:00</td>\n",
       "      <td>[🆒]</td>\n",
       "    </tr>\n",
       "  </tbody>\n",
       "</table>\n",
       "</div>"
      ],
      "text/plain": [
       "                                     Text      Date     Time Sender  \\\n",
       "0    I found an APJite in my class, today  28/07/17  7:36 pm      J   \n",
       "1  But, he joined the school after I left  28/07/17  7:36 pm      J   \n",
       "2                                      Ho  28/07/17  7:37 pm      D   \n",
       "3                                     Oh.  28/07/17  7:37 pm      D   \n",
       "4                            He's a 🆒 guy  28/07/17  7:40 pm      J   \n",
       "\n",
       "            Timestamp emoji  \n",
       "0 2017-07-28 19:36:00    []  \n",
       "1 2017-07-28 19:36:00    []  \n",
       "2 2017-07-28 19:37:00    []  \n",
       "3 2017-07-28 19:37:00    []  \n",
       "4 2017-07-28 19:40:00   [🆒]  "
      ]
     },
     "execution_count": 27,
     "metadata": {},
     "output_type": "execute_result"
    }
   ],
   "source": [
    "df.head()"
   ]
  },
  {
   "cell_type": "code",
   "execution_count": 49,
   "metadata": {},
   "outputs": [
    {
     "data": {
      "text/plain": [
       "2253"
      ]
     },
     "execution_count": 49,
     "metadata": {},
     "output_type": "execute_result"
    }
   ],
   "source": [
    "#2253 emojis sent over 4 years\n",
    "sum(df['emoji'].str.len())"
   ]
  },
  {
   "cell_type": "code",
   "execution_count": 24,
   "metadata": {},
   "outputs": [
    {
     "name": "stdout",
     "output_type": "stream",
     "text": [
      "Stats of D -\n",
      "Emojis Sent 895\n",
      "Stats of J -\n",
      "Emojis Sent 1358\n"
     ]
    }
   ],
   "source": [
    "l = ['D', 'J']\n",
    "\n",
    "for i in range(len(l)):\n",
    "  # Filtering out messages of particular user\n",
    "  req_df= df[df[\"Sender\"] == l[i]]\n",
    "  # req_df will contain messages of only one particular user\n",
    "  print(f'Stats of {l[i]} -')\n",
    "  # emojis conists of total emojis\n",
    "  emojis = sum(req_df['emoji'].str.len())\n",
    "  print('Emojis Sent', emojis)"
   ]
  },
  {
   "cell_type": "code",
   "execution_count": 63,
   "metadata": {},
   "outputs": [
    {
     "name": "stdout",
     "output_type": "stream",
     "text": [
      "484\n"
     ]
    }
   ],
   "source": [
    "total_emojis_list = list(set([a for b in df.emoji for a in b]))\n",
    "total_emojis = len(total_emojis_list)\n",
    "#Number of unique emojis used\n",
    "print(total_emojis)"
   ]
  },
  {
   "cell_type": "code",
   "execution_count": 65,
   "metadata": {},
   "outputs": [
    {
     "data": {
      "text/html": [
       "<div>\n",
       "<style scoped>\n",
       "    .dataframe tbody tr th:only-of-type {\n",
       "        vertical-align: middle;\n",
       "    }\n",
       "\n",
       "    .dataframe tbody tr th {\n",
       "        vertical-align: top;\n",
       "    }\n",
       "\n",
       "    .dataframe thead th {\n",
       "        text-align: right;\n",
       "    }\n",
       "</style>\n",
       "<table border=\"1\" class=\"dataframe\">\n",
       "  <thead>\n",
       "    <tr style=\"text-align: right;\">\n",
       "      <th></th>\n",
       "      <th>emoji</th>\n",
       "      <th>count</th>\n",
       "    </tr>\n",
       "  </thead>\n",
       "  <tbody>\n",
       "    <tr>\n",
       "      <th>0</th>\n",
       "      <td>😆</td>\n",
       "      <td>164</td>\n",
       "    </tr>\n",
       "    <tr>\n",
       "      <th>1</th>\n",
       "      <td>😂</td>\n",
       "      <td>148</td>\n",
       "    </tr>\n",
       "    <tr>\n",
       "      <th>2</th>\n",
       "      <td>🤣</td>\n",
       "      <td>96</td>\n",
       "    </tr>\n",
       "    <tr>\n",
       "      <th>3</th>\n",
       "      <td>💯</td>\n",
       "      <td>67</td>\n",
       "    </tr>\n",
       "    <tr>\n",
       "      <th>4</th>\n",
       "      <td>😝</td>\n",
       "      <td>53</td>\n",
       "    </tr>\n",
       "    <tr>\n",
       "      <th>...</th>\n",
       "      <td>...</td>\n",
       "      <td>...</td>\n",
       "    </tr>\n",
       "    <tr>\n",
       "      <th>479</th>\n",
       "      <td>🦾</td>\n",
       "      <td>1</td>\n",
       "    </tr>\n",
       "    <tr>\n",
       "      <th>480</th>\n",
       "      <td>🤏</td>\n",
       "      <td>1</td>\n",
       "    </tr>\n",
       "    <tr>\n",
       "      <th>481</th>\n",
       "      <td>⌛</td>\n",
       "      <td>1</td>\n",
       "    </tr>\n",
       "    <tr>\n",
       "      <th>482</th>\n",
       "      <td>🎎</td>\n",
       "      <td>1</td>\n",
       "    </tr>\n",
       "    <tr>\n",
       "      <th>483</th>\n",
       "      <td>🧠</td>\n",
       "      <td>1</td>\n",
       "    </tr>\n",
       "  </tbody>\n",
       "</table>\n",
       "<p>484 rows × 2 columns</p>\n",
       "</div>"
      ],
      "text/plain": [
       "    emoji  count\n",
       "0       😆    164\n",
       "1       😂    148\n",
       "2       🤣     96\n",
       "3       💯     67\n",
       "4       😝     53\n",
       "..    ...    ...\n",
       "479     🦾      1\n",
       "480     🤏      1\n",
       "481     ⌛      1\n",
       "482     🎎      1\n",
       "483     🧠      1\n",
       "\n",
       "[484 rows x 2 columns]"
      ]
     },
     "execution_count": 65,
     "metadata": {},
     "output_type": "execute_result"
    }
   ],
   "source": [
    "from collections import Counter\n",
    "total_emojis_list = list([a for b in df.emoji for a in b])\n",
    "emoji_dict = dict(Counter(total_emojis_list))\n",
    "emoji_dict = sorted(emoji_dict.items(), key=lambda x: x[1], reverse=True)\n",
    "\n",
    "emoji_df = pd.DataFrame(emoji_dict, columns=['emoji', 'count'])\n",
    "emoji_df"
   ]
  },
  {
   "cell_type": "code",
   "execution_count": 76,
   "metadata": {},
   "outputs": [
    {
     "data": {
      "text/html": [
       "<div>\n",
       "<style scoped>\n",
       "    .dataframe tbody tr th:only-of-type {\n",
       "        vertical-align: middle;\n",
       "    }\n",
       "\n",
       "    .dataframe tbody tr th {\n",
       "        vertical-align: top;\n",
       "    }\n",
       "\n",
       "    .dataframe thead th {\n",
       "        text-align: right;\n",
       "    }\n",
       "</style>\n",
       "<table border=\"1\" class=\"dataframe\">\n",
       "  <thead>\n",
       "    <tr style=\"text-align: right;\">\n",
       "      <th></th>\n",
       "      <th>emoji</th>\n",
       "      <th>count</th>\n",
       "    </tr>\n",
       "  </thead>\n",
       "  <tbody>\n",
       "    <tr>\n",
       "      <th>0</th>\n",
       "      <td>😆</td>\n",
       "      <td>164</td>\n",
       "    </tr>\n",
       "    <tr>\n",
       "      <th>1</th>\n",
       "      <td>😂</td>\n",
       "      <td>148</td>\n",
       "    </tr>\n",
       "    <tr>\n",
       "      <th>2</th>\n",
       "      <td>🤣</td>\n",
       "      <td>96</td>\n",
       "    </tr>\n",
       "    <tr>\n",
       "      <th>3</th>\n",
       "      <td>💯</td>\n",
       "      <td>67</td>\n",
       "    </tr>\n",
       "    <tr>\n",
       "      <th>4</th>\n",
       "      <td>😝</td>\n",
       "      <td>53</td>\n",
       "    </tr>\n",
       "    <tr>\n",
       "      <th>5</th>\n",
       "      <td>🤔</td>\n",
       "      <td>50</td>\n",
       "    </tr>\n",
       "    <tr>\n",
       "      <th>6</th>\n",
       "      <td>🆒</td>\n",
       "      <td>42</td>\n",
       "    </tr>\n",
       "    <tr>\n",
       "      <th>7</th>\n",
       "      <td>🤭</td>\n",
       "      <td>42</td>\n",
       "    </tr>\n",
       "    <tr>\n",
       "      <th>8</th>\n",
       "      <td>💦</td>\n",
       "      <td>31</td>\n",
       "    </tr>\n",
       "    <tr>\n",
       "      <th>9</th>\n",
       "      <td>😳</td>\n",
       "      <td>31</td>\n",
       "    </tr>\n",
       "  </tbody>\n",
       "</table>\n",
       "</div>"
      ],
      "text/plain": [
       "  emoji  count\n",
       "0     😆    164\n",
       "1     😂    148\n",
       "2     🤣     96\n",
       "3     💯     67\n",
       "4     😝     53\n",
       "5     🤔     50\n",
       "6     🆒     42\n",
       "7     🤭     42\n",
       "8     💦     31\n",
       "9     😳     31"
      ]
     },
     "execution_count": 76,
     "metadata": {},
     "output_type": "execute_result"
    }
   ],
   "source": [
    "emoji_df.head(10)"
   ]
  },
  {
   "cell_type": "code",
   "execution_count": 75,
   "metadata": {},
   "outputs": [
    {
     "name": "stdout",
     "output_type": "stream",
     "text": [
      "Emoji Distribution for J\n"
     ]
    },
    {
     "data": {
      "text/plain": [
       "[('🤣', 92),\n",
       " ('😆', 80),\n",
       " ('😂', 67),\n",
       " ('💯', 62),\n",
       " ('😝', 52),\n",
       " ('🤔', 42),\n",
       " ('🆒', 39),\n",
       " ('🤭', 28),\n",
       " ('😳', 28),\n",
       " ('👏🏻', 25),\n",
       " ('🐖', 23),\n",
       " ('👌🏻', 22),\n",
       " ('😉', 22),\n",
       " ('💦', 19),\n",
       " ('👍🏻', 18),\n",
       " ('🤤', 17),\n",
       " ('🅱', 15),\n",
       " ('😅', 14),\n",
       " ('😱', 14),\n",
       " ('☹', 13),\n",
       " ('👉🏻', 13),\n",
       " ('➡', 12),\n",
       " ('🐾', 10),\n",
       " ('🤯', 10),\n",
       " ('🥵', 10),\n",
       " ('🗿', 10),\n",
       " ('❤', 9),\n",
       " ('👣', 9),\n",
       " ('👒', 9),\n",
       " ('⛰', 9),\n",
       " ('💧', 8),\n",
       " ('🌟', 8),\n",
       " ('🐽', 8),\n",
       " ('😋', 8),\n",
       " ('😕', 7),\n",
       " ('🕶', 7),\n",
       " ('🤑', 7),\n",
       " ('🏎', 7),\n",
       " ('🕷', 7),\n",
       " ('🇳🇵', 7),\n",
       " ('🙄', 6),\n",
       " ('🔥', 6),\n",
       " ('🔘', 6),\n",
       " ('👙', 6),\n",
       " ('🦔', 6),\n",
       " ('💪🏾', 6),\n",
       " ('💪🏻', 6),\n",
       " ('👅', 6),\n",
       " ('😃', 5),\n",
       " ('🥀', 5),\n",
       " ('😎', 5),\n",
       " ('💰', 5),\n",
       " ('😘', 5),\n",
       " ('😨', 5),\n",
       " ('⭐', 4),\n",
       " ('😁', 4),\n",
       " ('✔', 4),\n",
       " ('🧟\\u200d♂', 4),\n",
       " ('🍆', 4),\n",
       " ('👬', 4),\n",
       " ('😜', 4),\n",
       " ('😚', 4),\n",
       " ('🤫', 4),\n",
       " ('🙁', 4),\n",
       " ('👏', 4),\n",
       " ('👌', 4),\n",
       " ('☯', 4),\n",
       " ('🌐', 4),\n",
       " ('🥴', 4),\n",
       " ('😐', 3),\n",
       " ('🤦🏻\\u200d♂', 3),\n",
       " ('✅', 3),\n",
       " ('🤰🏻', 3),\n",
       " ('🤪', 3),\n",
       " ('📷', 3),\n",
       " ('🍌', 3),\n",
       " ('🙈', 3),\n",
       " ('🤗', 3),\n",
       " ('👄', 3),\n",
       " ('👁', 3),\n",
       " ('🧡', 3),\n",
       " ('💛', 3),\n",
       " ('💚', 3),\n",
       " ('💙', 3),\n",
       " ('💜', 3),\n",
       " ('🖤', 3),\n",
       " ('😙', 3),\n",
       " ('💓', 3),\n",
       " ('😫', 3),\n",
       " ('😩', 3),\n",
       " ('🤝🏻', 3),\n",
       " ('💗', 3),\n",
       " ('🤢', 3),\n",
       " ('🦎', 3),\n",
       " ('😛', 3),\n",
       " ('👨🏿\\u200d🎤', 3),\n",
       " ('🐕', 2),\n",
       " ('🔦', 2),\n",
       " ('🖕🏿', 2),\n",
       " ('🍑', 2),\n",
       " ('🤷🏻\\u200d♂', 2),\n",
       " ('👹', 2),\n",
       " ('🐎', 2),\n",
       " ('🚆', 2),\n",
       " ('🚫', 2),\n",
       " ('🧜\\u200d♀', 2),\n",
       " ('🐱', 2),\n",
       " ('🧐', 2),\n",
       " ('🍷', 2),\n",
       " ('🐸', 2),\n",
       " ('🎹', 2),\n",
       " ('🌽', 2),\n",
       " ('🔺', 2),\n",
       " ('🥨', 2),\n",
       " ('🤨', 2),\n",
       " ('🤱🏻', 2),\n",
       " ('🍰', 2),\n",
       " ('☺', 2),\n",
       " ('🗣', 2),\n",
       " ('🍈', 2),\n",
       " ('💥', 2),\n",
       " ('👃', 2),\n",
       " ('😗', 2),\n",
       " ('🤬', 2),\n",
       " ('😊', 2),\n",
       " ('🐗', 2),\n",
       " ('👽', 2),\n",
       " ('😏', 2),\n",
       " ('🎉', 2),\n",
       " ('☑️', 2),\n",
       " ('🤓', 2),\n",
       " ('❌', 2),\n",
       " ('🏉', 2),\n",
       " ('🎱', 2),\n",
       " ('😞', 2),\n",
       " ('😔', 2),\n",
       " ('😟', 2),\n",
       " ('😇', 2),\n",
       " ('😭', 2),\n",
       " ('💕', 2),\n",
       " ('💞', 2),\n",
       " ('💝', 2),\n",
       " ('👀', 2),\n",
       " ('🅰', 2),\n",
       " ('🕸', 2),\n",
       " ('🦉', 2),\n",
       " ('🔮', 2),\n",
       " ('💣', 2),\n",
       " ('🇧🇩', 2),\n",
       " ('🇯🇵', 2),\n",
       " ('🌞', 2),\n",
       " ('👨\\u200d❤\\u200d💋\\u200d👨', 2),\n",
       " ('🦵🏻', 2),\n",
       " ('👁️', 2),\n",
       " ('🤺', 1),\n",
       " ('💩', 1),\n",
       " ('😪', 1),\n",
       " ('🤧', 1),\n",
       " ('🎸', 1),\n",
       " ('🤘🏼', 1),\n",
       " ('🐓', 1),\n",
       " ('😈', 1),\n",
       " ('🖕🏻', 1),\n",
       " ('☔', 1),\n",
       " ('🎯', 1),\n",
       " ('😥', 1),\n",
       " ('🙌🏻', 1),\n",
       " ('🐐', 1),\n",
       " ('☄', 1),\n",
       " ('🐚', 1),\n",
       " ('🥚', 1),\n",
       " ('✋', 1),\n",
       " ('🎓', 1),\n",
       " ('🇳', 1),\n",
       " ('🇴', 1),\n",
       " ('🇮', 1),\n",
       " ('🇩', 1),\n",
       " ('🇪', 1),\n",
       " ('🇦', 1),\n",
       " ('🔄', 1),\n",
       " ('👓', 1),\n",
       " ('🌃', 1),\n",
       " ('⬆', 1),\n",
       " ('🤒', 1),\n",
       " ('🐝', 1),\n",
       " ('🍺', 1),\n",
       " ('👻', 1),\n",
       " ('🐞', 1),\n",
       " ('👮', 1),\n",
       " ('🎅🏿', 1),\n",
       " ('❓', 1),\n",
       " ('🎄', 1),\n",
       " ('⛵', 1),\n",
       " ('🥌', 1),\n",
       " ('🔲', 1),\n",
       " ('🤚🏻', 1),\n",
       " ('🔻', 1),\n",
       " ('🍅', 1),\n",
       " ('🥕', 1),\n",
       " ('🙊', 1),\n",
       " ('🙉', 1),\n",
       " ('❄', 1),\n",
       " ('😲', 1),\n",
       " ('😑', 1),\n",
       " ('🧞\\u200d♀', 1),\n",
       " ('👫', 1),\n",
       " ('💑', 1),\n",
       " ('👶🏻', 1),\n",
       " ('🧛🏻\\u200d♂', 1),\n",
       " ('🐉', 1),\n",
       " ('🐲', 1),\n",
       " ('🐈', 1),\n",
       " ('🐻', 1),\n",
       " ('👨🏻\\u200d🎤', 1),\n",
       " ('🦆', 1),\n",
       " ('⚡', 1),\n",
       " ('👢', 1),\n",
       " ('🤳🏻', 1),\n",
       " ('👃🏻', 1),\n",
       " ('🎶', 1),\n",
       " ('🐦', 1),\n",
       " ('🦕', 1),\n",
       " ('🐼', 1),\n",
       " ('💀', 1),\n",
       " ('🐘', 1),\n",
       " ('🧟\\u200d♀', 1),\n",
       " ('🚙', 1),\n",
       " ('🚘', 1),\n",
       " ('💵', 1),\n",
       " ('💳', 1),\n",
       " ('🆕', 1),\n",
       " ('⛔️', 1),\n",
       " ('🚓', 1),\n",
       " ('🆙', 1),\n",
       " ('🌆', 1),\n",
       " ('📚', 1),\n",
       " ('📖', 1),\n",
       " ('🔇', 1),\n",
       " ('🛥', 1),\n",
       " ('🛳', 1),\n",
       " ('🚤', 1),\n",
       " ('⚽', 1),\n",
       " ('🏀', 1),\n",
       " ('🏈', 1),\n",
       " ('⚾', 1),\n",
       " ('🎾', 1),\n",
       " ('🏐', 1),\n",
       " ('🏸', 1),\n",
       " ('😣', 1),\n",
       " ('😖', 1),\n",
       " ('😢', 1),\n",
       " ('🤥', 1),\n",
       " ('🤩', 1),\n",
       " ('👨\\u200d👨\\u200d👦', 1),\n",
       " ('♥', 1),\n",
       " ('💔', 1),\n",
       " ('❣', 1),\n",
       " ('💖', 1),\n",
       " ('💟', 1),\n",
       " ('🆖', 1),\n",
       " ('🍄', 1),\n",
       " ('👐🏻', 1),\n",
       " ('💃🏿', 1),\n",
       " ('🌈', 1),\n",
       " ('☢', 1),\n",
       " ('😄', 1),\n",
       " ('😒', 1),\n",
       " ('📀', 1),\n",
       " ('🌭', 1),\n",
       " ('🐙', 1),\n",
       " ('🐄', 1),\n",
       " ('➿', 1),\n",
       " ('💋', 1),\n",
       " ('🤐', 1),\n",
       " ('👊🏻', 1),\n",
       " ('✊🏻', 1),\n",
       " ('🤛🏻', 1),\n",
       " ('🤜🏻', 1),\n",
       " ('👩🏿\\u200d🎤', 1),\n",
       " ('🔋', 1),\n",
       " ('♋', 1),\n",
       " ('🥃', 1),\n",
       " ('🐃', 1),\n",
       " ('🤡', 1),\n",
       " ('🕌', 1),\n",
       " ('🎇', 1),\n",
       " ('😽', 1),\n",
       " ('🇨🇿', 1),\n",
       " ('🇳🇱', 1),\n",
       " ('🇨🇦', 1),\n",
       " ('🇨🇭', 1),\n",
       " ('🏳\\u200d🌈', 1),\n",
       " ('👨\\u200d👨\\u200d👧\\u200d👧', 1),\n",
       " ('👨\\u200d👨\\u200d👦\\u200d👦', 1),\n",
       " ('👩\\u200d❤\\u200d💋\\u200d👩', 1),\n",
       " ('🥳', 1),\n",
       " ('🏳️\\u200d🌈⃠', 1),\n",
       " ('🥁', 1),\n",
       " ('🐶', 1),\n",
       " ('🌝', 1),\n",
       " ('🥜', 1),\n",
       " ('🍩', 1),\n",
       " ('🐢', 1),\n",
       " ('🎃', 1),\n",
       " ('👴🏼', 1),\n",
       " ('🤠', 1),\n",
       " ('⌛', 1),\n",
       " ('🍞', 1),\n",
       " ('🎎', 1),\n",
       " ('😤', 1)]"
      ]
     },
     "execution_count": 75,
     "metadata": {},
     "output_type": "execute_result"
    }
   ],
   "source": [
    "dummy_df = df[df['Sender'] == 'J']\n",
    "total_emojis_list = list([a for b in dummy_df.emoji for a in b])\n",
    "emoji_dict = dict(Counter(total_emojis_list))\n",
    "emoji_dict = sorted(emoji_dict.items(), key=lambda x: x[1], reverse=True)\n",
    "print('Emoji Distribution for J')\n",
    "emoji_dict"
   ]
  },
  {
   "cell_type": "code",
   "execution_count": 74,
   "metadata": {},
   "outputs": [
    {
     "name": "stdout",
     "output_type": "stream",
     "text": [
      "Emoji Distribution for D\n"
     ]
    },
    {
     "data": {
      "text/plain": [
       "[('😆', 84),\n",
       " ('😂', 81),\n",
       " ('🦎', 28),\n",
       " ('🕙', 25),\n",
       " ('🤷\\u200d♂', 21),\n",
       " ('🤦\\u200d♂', 20),\n",
       " ('👍', 19),\n",
       " ('🤭', 14),\n",
       " ('😅', 13),\n",
       " ('💩', 13),\n",
       " ('🕤', 13),\n",
       " ('🧖\\u200d♂', 13),\n",
       " ('💦', 12),\n",
       " ('🧖🏿\\u200d♂', 11),\n",
       " ('👌', 9),\n",
       " ('🍌', 9),\n",
       " ('🕳', 9),\n",
       " ('🅱', 9),\n",
       " ('🤔', 8),\n",
       " ('😐', 8),\n",
       " ('🕘', 8),\n",
       " ('🕥', 8),\n",
       " ('🕜', 7),\n",
       " ('🍆', 6),\n",
       " ('👙', 6),\n",
       " ('🕝', 6),\n",
       " ('🕣', 6),\n",
       " ('🍪', 6),\n",
       " ('❤', 5),\n",
       " ('🇮🇳', 5),\n",
       " ('😁', 5),\n",
       " ('🐜', 5),\n",
       " ('👉', 5),\n",
       " ('🥚', 5),\n",
       " ('👄', 5),\n",
       " ('♥', 5),\n",
       " ('🕠', 5),\n",
       " ('🥥', 5),\n",
       " ('🧟\\u200d♂', 5),\n",
       " ('💯', 5),\n",
       " ('😖', 4),\n",
       " ('🔥', 4),\n",
       " ('🤣', 4),\n",
       " ('🚆', 4),\n",
       " ('💋', 4),\n",
       " ('💿', 4),\n",
       " ('🐖', 4),\n",
       " ('🥕', 4),\n",
       " ('💨', 4),\n",
       " ('💪', 4),\n",
       " ('🆒', 3),\n",
       " ('😳', 3),\n",
       " ('😍', 3),\n",
       " ('😓', 3),\n",
       " ('🧐', 3),\n",
       " ('🤪', 3),\n",
       " ('👃', 3),\n",
       " ('😛', 3),\n",
       " ('😤', 3),\n",
       " ('🥨', 3),\n",
       " ('🇦🇶', 3),\n",
       " ('🎉', 3),\n",
       " ('💪🏾', 3),\n",
       " ('🕹', 3),\n",
       " ('😷', 3),\n",
       " ('😵', 2),\n",
       " ('😴', 2),\n",
       " ('👏', 2),\n",
       " ('😎', 2),\n",
       " ('🖕', 2),\n",
       " ('😕', 2),\n",
       " ('🚅', 2),\n",
       " ('😿', 2),\n",
       " ('💰', 2),\n",
       " ('🙇🏽\\u200d♂', 2),\n",
       " ('🥜', 2),\n",
       " ('🗿', 2),\n",
       " ('👻', 2),\n",
       " ('🍼', 2),\n",
       " ('🌙', 2),\n",
       " ('📀', 2),\n",
       " ('🔍', 2),\n",
       " ('🔎', 2),\n",
       " ('🐽', 2),\n",
       " ('🐘', 2),\n",
       " ('👂', 2),\n",
       " ('🍻', 2),\n",
       " ('🕴🏿', 2),\n",
       " ('🕑', 2),\n",
       " ('🕓', 2),\n",
       " ('🐷', 2),\n",
       " ('🤺', 2),\n",
       " ('👁', 2),\n",
       " ('👃🏿', 2),\n",
       " ('🥌', 2),\n",
       " ('🐶', 2),\n",
       " ('🦆', 2),\n",
       " ('👆', 2),\n",
       " ('🔔', 2),\n",
       " ('💃🏻', 2),\n",
       " ('🏉', 2),\n",
       " ('🙂', 2),\n",
       " ('✋', 2),\n",
       " ('🤷🏿\\u200d♂', 2),\n",
       " ('💜', 2),\n",
       " ('🖤', 2),\n",
       " ('☯', 2),\n",
       " ('🅿', 2),\n",
       " ('🙌🏻', 2),\n",
       " ('🥵', 2),\n",
       " ('🥔', 2),\n",
       " ('😝', 1),\n",
       " ('👊🏽', 1),\n",
       " ('🤞', 1),\n",
       " ('👀', 1),\n",
       " ('🐤', 1),\n",
       " ('😃', 1),\n",
       " ('✅', 1),\n",
       " ('😊', 1),\n",
       " ('😄', 1),\n",
       " ('✈', 1),\n",
       " ('👩\\u200d🎓', 1),\n",
       " ('👨\\u200d🎓', 1),\n",
       " ('🇳', 1),\n",
       " ('🇴', 1),\n",
       " ('🇮', 1),\n",
       " ('🇩', 1),\n",
       " ('🇦', 1),\n",
       " ('🇪🇦', 1),\n",
       " ('👨🏼\\u200d🎤', 1),\n",
       " ('🕴', 1),\n",
       " ('➡️', 1),\n",
       " ('🍞', 1),\n",
       " ('🎊', 1),\n",
       " ('🍥', 1),\n",
       " ('😔', 1),\n",
       " ('😑', 1),\n",
       " ('😢', 1),\n",
       " ('😥', 1),\n",
       " ('😲', 1),\n",
       " ('😹', 1),\n",
       " ('🌶', 1),\n",
       " ('🤸🏼\\u200d♀', 1),\n",
       " ('⚰', 1),\n",
       " ('🖇', 1),\n",
       " ('💮', 1),\n",
       " ('☁️', 1),\n",
       " ('🐍', 1),\n",
       " ('🤢', 1),\n",
       " ('💍', 1),\n",
       " ('🦑', 1),\n",
       " ('😉', 1),\n",
       " ('🦐', 1),\n",
       " ('🧤', 1),\n",
       " ('🤩', 1),\n",
       " ('😮', 1),\n",
       " ('🌺', 1),\n",
       " ('🌸', 1),\n",
       " ('🍁', 1),\n",
       " ('🦈', 1),\n",
       " ('🥟', 1),\n",
       " ('🖲', 1),\n",
       " ('😌', 1),\n",
       " ('👽', 1),\n",
       " ('🖐', 1),\n",
       " ('🤲', 1),\n",
       " ('🐛', 1),\n",
       " ('😽', 1),\n",
       " ('🐮', 1),\n",
       " ('🤓', 1),\n",
       " ('🔪', 1),\n",
       " ('🔫', 1),\n",
       " ('🌈', 1),\n",
       " ('☺', 1),\n",
       " ('💄', 1),\n",
       " ('👅', 1),\n",
       " ('🕐', 1),\n",
       " ('🕕', 1),\n",
       " ('👌🏻', 1),\n",
       " ('👏🏻', 1),\n",
       " ('🚐', 1),\n",
       " ('🚿', 1),\n",
       " ('🤥', 1),\n",
       " ('👘', 1),\n",
       " ('🤙🏿', 1),\n",
       " ('🤡', 1),\n",
       " ('🐪', 1),\n",
       " ('🦔', 1),\n",
       " ('🏪', 1),\n",
       " ('🏀', 1),\n",
       " ('🐟', 1),\n",
       " ('🌀', 1),\n",
       " ('💔', 1),\n",
       " ('🤨', 1),\n",
       " ('📈', 1),\n",
       " ('🤤', 1),\n",
       " ('🌬', 1),\n",
       " ('🗺', 1),\n",
       " ('➿', 1),\n",
       " ('😡', 1),\n",
       " ('💘', 1),\n",
       " ('💠', 1),\n",
       " ('🏁', 1),\n",
       " ('📷', 1),\n",
       " ('📸', 1),\n",
       " ('🕴️', 1),\n",
       " ('🗣', 1),\n",
       " ('🏏', 1),\n",
       " ('🥖', 1),\n",
       " ('🕡', 1),\n",
       " ('🐉', 1),\n",
       " ('🐾', 1),\n",
       " ('😒', 1),\n",
       " ('🐢', 1),\n",
       " ('👋', 1),\n",
       " ('😶', 1),\n",
       " ('👚', 1),\n",
       " ('👕', 1),\n",
       " ('👖', 1),\n",
       " ('👔', 1),\n",
       " ('👢', 1),\n",
       " ('🌚', 1),\n",
       " ('🌝', 1),\n",
       " ('🎡', 1),\n",
       " ('📞', 1),\n",
       " ('♠', 1),\n",
       " ('👁\\u200d🗨', 1),\n",
       " ('◼', 1),\n",
       " ('◻', 1),\n",
       " ('⬛', 1),\n",
       " ('⬜', 1),\n",
       " ('🔳', 1),\n",
       " ('🔲', 1),\n",
       " ('🇫🇷', 1),\n",
       " ('🇧🇪', 1),\n",
       " ('🇬🇼', 1),\n",
       " ('🇬🇭', 1),\n",
       " ('🇬🇫', 1),\n",
       " ('🇫🇮', 1),\n",
       " ('🇫🇴', 1),\n",
       " ('🇮🇸', 1),\n",
       " ('🇳🇴', 1),\n",
       " ('🏴\\U000e0067\\U000e0062\\U000e0065\\U000e006e\\U000e0067\\U000e007f', 1),\n",
       " ('🇦🇽', 1),\n",
       " ('🇩🇰', 1),\n",
       " ('🇸🇪', 1),\n",
       " ('🇭🇰', 1),\n",
       " ('🇨🇾', 1),\n",
       " ('🇮🇲', 1),\n",
       " ('🇳🇪', 1),\n",
       " ('🇦🇱', 1),\n",
       " ('🥁', 1),\n",
       " ('👆🏻', 1),\n",
       " ('🙄', 1),\n",
       " ('👍🏼', 1),\n",
       " ('💞', 1),\n",
       " ('🇧🇩', 1),\n",
       " ('🤷🏻\\u200d♀', 1),\n",
       " ('😨', 1),\n",
       " ('😱', 1),\n",
       " ('©', 1),\n",
       " ('®', 1),\n",
       " ('™', 1),\n",
       " ('🧡', 1),\n",
       " ('💛', 1),\n",
       " ('💚', 1),\n",
       " ('💙', 1),\n",
       " ('🍰', 1),\n",
       " ('👃🏾', 1),\n",
       " ('👣', 1),\n",
       " ('👶🏾', 1),\n",
       " ('👩🏼\\u200d🎤', 1),\n",
       " ('🌪', 1),\n",
       " ('⌚', 1),\n",
       " ('🦇', 1),\n",
       " ('🥝', 1),\n",
       " ('🎂', 1),\n",
       " ('🕯', 1),\n",
       " ('🥋', 1),\n",
       " ('💀', 1),\n",
       " ('🤚', 1),\n",
       " ('🧛\\u200d♂️', 1),\n",
       " ('🦉', 1),\n",
       " ('🚶\\u200d♀', 1),\n",
       " ('🚶', 1),\n",
       " ('🏃', 1),\n",
       " ('🏃\\u200d♀', 1),\n",
       " ('🅰', 1),\n",
       " ('🐡', 1),\n",
       " ('🐎', 1),\n",
       " ('🅾', 1),\n",
       " ('🥴', 1),\n",
       " ('🩸', 1),\n",
       " ('🦾', 1),\n",
       " ('🤏', 1),\n",
       " ('🐞', 1),\n",
       " ('🧠', 1)]"
      ]
     },
     "execution_count": 74,
     "metadata": {},
     "output_type": "execute_result"
    }
   ],
   "source": [
    "dummy_df = df[df['Sender'] == 'D']\n",
    "total_emojis_list = list([a for b in dummy_df.emoji for a in b])\n",
    "emoji_dict = dict(Counter(total_emojis_list))\n",
    "emoji_dict = sorted(emoji_dict.items(), key=lambda x: x[1], reverse=True)\n",
    "print('Emoji Distribution for D')\n",
    "emoji_dict"
   ]
  }
 ],
 "metadata": {
  "kernelspec": {
   "display_name": "textViz",
   "language": "python",
   "name": "textviz"
  },
  "language_info": {
   "codemirror_mode": {
    "name": "ipython",
    "version": 3
   },
   "file_extension": ".py",
   "mimetype": "text/x-python",
   "name": "python",
   "nbconvert_exporter": "python",
   "pygments_lexer": "ipython3",
   "version": "3.8.5"
  }
 },
 "nbformat": 4,
 "nbformat_minor": 4
}
